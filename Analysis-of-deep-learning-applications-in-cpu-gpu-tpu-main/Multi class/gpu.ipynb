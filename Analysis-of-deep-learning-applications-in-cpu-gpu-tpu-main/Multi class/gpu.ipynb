{
  "nbformat": 4,
  "nbformat_minor": 0,
  "metadata": {
    "colab": {
      "name": "face_mask_gpu.ipynb",
      "provenance": [],
      "collapsed_sections": []
    },
    "kernelspec": {
      "display_name": "Python 3",
      "name": "python3"
    },
    "language_info": {
      "name": "python"
    }
  },
  "cells": [
    {
      "cell_type": "code",
      "metadata": {
        "id": "0dO_KxDOBtqN"
      },
      "source": [
        "import tensorflow as tf"
      ],
      "execution_count": null,
      "outputs": []
    },
    {
      "cell_type": "code",
      "metadata": {
        "id": "GZo1b9JK2Iy4"
      },
      "source": [
        "%tensorflow_version 2.x\n",
        "device_name = tf.test.gpu_device_name()\n",
        "if device_name != '/device:GPU:0':\n",
        "  raise SystemError('GPU device not found')\n",
        "print('Found GPU at: {}'.format(device_name))"
      ],
      "execution_count": null,
      "outputs": []
    },
    {
      "cell_type": "code",
      "metadata": {
        "colab": {
          "base_uri": "https://localhost:8080/"
        },
        "id": "zme9qHIO2jLW",
        "outputId": "2a889b05-542d-423a-80cb-02f6ae9ecdb2"
      },
      "source": [
        "from google.colab import drive\n",
        "drive.mount('/content/drive/')"
      ],
      "execution_count": null,
      "outputs": [
        {
          "output_type": "stream",
          "name": "stdout",
          "text": [
            "Mounted at /content/drive/\n"
          ]
        }
      ]
    },
    {
      "cell_type": "code",
      "metadata": {
        "id": "lrAVkc6c2les"
      },
      "source": [
        "import cv2\n",
        "from imutils import paths\n",
        "import os\n",
        "import time\n",
        "import random\n",
        "from keras.preprocessing.image import img_to_array\n",
        "\n",
        "data=[]\n",
        "labels=[]\n",
        "i=1\n",
        "d=[]"
      ],
      "execution_count": null,
      "outputs": []
    },
    {
      "cell_type": "code",
      "metadata": {
        "id": "BGqB5A9RBrK0"
      },
      "source": [
        "imagePaths = sorted(list(paths.list_images(\"/content/drive/MyDrive/Datasets/dataset1\")))\n",
        "print(imagePaths)\n",
        "for imagePath in imagePaths:\n",
        "  if i%50==0:\n",
        "    print(i)\n",
        "  i+=1\n",
        "  image = cv2.imread(imagePath)\n",
        "  image = cv2.resize(image,(50, 50))\n",
        "  image = cv2.cvtColor(image, cv2.COLOR_BGR2GRAY)\n",
        "  image = img_to_array(image)\n",
        "  label = imagePath.split(os.path.sep)[-2]\n",
        "  if label==\"with_mask\":\n",
        "    label=[1,0,0]\n",
        "    d.append((image,label))\n",
        "  elif label==\"without_mask\":\n",
        "    label=[0,1,0]\n",
        "    d.append((image,label))\n",
        "  elif label==\"Masks2\":\n",
        "    label=[0,0,1]\n",
        "    d.append((image,label))"
      ],
      "execution_count": null,
      "outputs": []
    },
    {
      "cell_type": "code",
      "metadata": {
        "id": "glknf_iUCjdf"
      },
      "source": [
        "random.shuffle(d)"
      ],
      "execution_count": null,
      "outputs": []
    },
    {
      "cell_type": "code",
      "metadata": {
        "id": "XfeKuU4yADBs"
      },
      "source": [
        "import pickle\n",
        "with open(\"/content/drive/MyDrive/Datasets/mask12.txt\", \"rb\") as fp:\n",
        "  d = pickle.load(fp)"
      ],
      "execution_count": null,
      "outputs": []
    },
    {
      "cell_type": "code",
      "metadata": {
        "id": "eh1JghUFwryo"
      },
      "source": [
        "for i in d:\n",
        "  data.append(i[0])\n",
        "  labels.append(i[1])"
      ],
      "execution_count": null,
      "outputs": []
    },
    {
      "cell_type": "code",
      "metadata": {
        "colab": {
          "base_uri": "https://localhost:8080/"
        },
        "id": "9T77Im71vcfE",
        "outputId": "eb04fe4b-3e70-4a8b-f690-271b8dd2f83c"
      },
      "source": [
        "len(data)\n",
        "print(labels.count([0,0,1]))"
      ],
      "execution_count": null,
      "outputs": [
        {
          "output_type": "stream",
          "name": "stdout",
          "text": [
            "732\n"
          ]
        }
      ]
    },
    {
      "cell_type": "code",
      "metadata": {
        "id": "AND9sHAo3vOn"
      },
      "source": [
        "import numpy as np\n",
        "data = np.array(data, dtype=\"float\") / 255.0\n",
        "labels = np.array(labels)"
      ],
      "execution_count": null,
      "outputs": []
    },
    {
      "cell_type": "code",
      "metadata": {
        "colab": {
          "base_uri": "https://localhost:8080/"
        },
        "id": "jJRN3DXO4ynM",
        "outputId": "1c3623f0-e762-4a52-e080-103346d3fdcf"
      },
      "source": [
        "train_X = data\n",
        "train_y = labels\n",
        "VAL_PCT = 0.1  # lets reserve 10% of our data for validation\n",
        "val_size = int(len(data)*VAL_PCT)\n",
        "print(val_size)\n",
        "\n",
        "train_X = data[:2*-val_size]\n",
        "train_y = labels[:2*-val_size]\n",
        "\n",
        "test_X = data[2*-val_size:-val_size]\n",
        "test_y = labels[2*-val_size:-val_size]\n",
        "\n",
        "test_X1 = data[-val_size:]\n",
        "test_y1 = labels[-val_size:]\n"
      ],
      "execution_count": null,
      "outputs": [
        {
          "output_type": "stream",
          "name": "stdout",
          "text": [
            "504\n"
          ]
        }
      ]
    },
    {
      "cell_type": "code",
      "metadata": {
        "colab": {
          "base_uri": "https://localhost:8080/"
        },
        "id": "hcFQNHH2wuxM",
        "outputId": "71501d1e-1bdc-49ed-e8de-4fdb37431b5d"
      },
      "source": [
        "test_y.count([0,0,1])"
      ],
      "execution_count": null,
      "outputs": [
        {
          "output_type": "execute_result",
          "data": {
            "text/plain": [
              "73"
            ]
          },
          "metadata": {},
          "execution_count": 32
        }
      ]
    },
    {
      "cell_type": "code",
      "metadata": {
        "colab": {
          "base_uri": "https://localhost:8080/"
        },
        "id": "JpAQUtfft96A",
        "outputId": "5cf3084d-c37a-4330-8f9e-4c12f008d781"
      },
      "source": [
        "EPOCHS = 29\n",
        "BATCH_SIZE = 128\n",
        "steps_per_epoch = len(train_X)//BATCH_SIZE\n",
        "print(\"Steps per epoch: \", steps_per_epoch)  "
      ],
      "execution_count": null,
      "outputs": [
        {
          "output_type": "stream",
          "name": "stdout",
          "text": [
            "Steps per epoch:  31\n"
          ]
        }
      ]
    },
    {
      "cell_type": "code",
      "metadata": {
        "id": "QUcqJh6atKEs"
      },
      "source": [
        "with tf.device('/device:GPU:0'):    \n",
        "      model = tf.keras.Sequential(\n",
        "      [\n",
        "        \n",
        "        tf.keras.layers.Conv2D(32, (5, 5), input_shape = (50, 50, 1), activation = 'relu'), # no bias necessary before batch norm\n",
        "        tf.keras.layers.MaxPooling2D(pool_size = (2, 2)),\n",
        "        \n",
        "        tf.keras.layers.Conv2D(64, (5, 5), activation = 'relu'),\n",
        "        tf.keras.layers.MaxPooling2D(pool_size = (2, 2)),\n",
        "        \n",
        "        tf.keras.layers.Conv2D(128, (5, 5), activation = 'relu'),\n",
        "        tf.keras.layers.MaxPooling2D(pool_size = (2, 2)),\n",
        "\n",
        "        tf.keras.layers.Flatten(),\n",
        "        tf.keras.layers.Dense(units = 512, activation = 'relu'),\n",
        "        \n",
        "        tf.keras.layers.Dense(3, activation='softmax')\n",
        "      ])\n",
        "\n",
        "      model.compile(optimizer='adam',loss='categorical_crossentropy',metrics=['accuracy'])"
      ],
      "execution_count": null,
      "outputs": []
    },
    {
      "cell_type": "code",
      "metadata": {
        "id": "34lWFqLltaGv"
      },
      "source": [
        "from tensorflow.keras.callbacks import *\n",
        "mc=ModelCheckpoint('plant_gpu.h5', monitor='val_accuracy', mode='max', save_best_only=True,verbose=1)  \n",
        "start_time=time.time()\n",
        "history = model.fit(train_X,train_y, steps_per_epoch=steps_per_epoch, epochs=EPOCHS,validation_data=(test_X,test_y),batch_size=BATCH_SIZE,callbacks=[mc])\n",
        "print(\"--- %s seconds ---\" % (time.time() - start_time))"
      ],
      "execution_count": null,
      "outputs": []
    },
    {
      "cell_type": "code",
      "metadata": {
        "id": "yw17Iljotzp_"
      },
      "source": [
        "from tensorflow.keras.models import load_model\n",
        "model=load_model('plant_gpu.h5')\n",
        "c=0\n",
        "t=0\n",
        "for i in range(len(test_X1)):\n",
        "  test_image = np.expand_dims(test_X1[i], axis = 0)\n",
        "  result=np.argmax(model.predict(test_image),axis=1)\n",
        "  if result[0]==0 and test_y1[i][0]==1:\n",
        "    c+=1\n",
        "  if result[0]==1 and test_y1[i][1]==1:\n",
        "    c+=1\n",
        "  if result[0]==2 and test_y1[i][2]==1:\n",
        "    c+=1\n",
        "  t+=1"
      ],
      "execution_count": null,
      "outputs": []
    },
    {
      "cell_type": "code",
      "metadata": {
        "colab": {
          "base_uri": "https://localhost:8080/"
        },
        "id": "fXgV9owYztGd",
        "outputId": "f8a3e8e4-5cbe-4aa0-bec8-cbc302a0b9c7"
      },
      "source": [
        "c/t"
      ],
      "execution_count": null,
      "outputs": [
        {
          "output_type": "execute_result",
          "data": {
            "text/plain": [
              "0.9444444444444444"
            ]
          },
          "metadata": {},
          "execution_count": 41
        }
      ]
    },
    {
      "cell_type": "markdown",
      "metadata": {
        "id": "yjz3wXRQiDeq"
      },
      "source": [
        "Storing the shuffle data using pickle."
      ]
    },
    {
      "cell_type": "code",
      "metadata": {
        "id": "SK3iFfC92WeV"
      },
      "source": [
        "with open(\"test12.txt\", \"wb\") as fp:   \n",
        "   pickle.dump(d, fp)"
      ],
      "execution_count": null,
      "outputs": []
    },
    {
      "cell_type": "code",
      "metadata": {
        "id": "-VXGmq52AbOO"
      },
      "source": [
        ""
      ],
      "execution_count": null,
      "outputs": []
    }
  ]
}