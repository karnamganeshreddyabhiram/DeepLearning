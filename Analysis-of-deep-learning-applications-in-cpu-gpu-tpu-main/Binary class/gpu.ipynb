{
  "nbformat": 4,
  "nbformat_minor": 0,
  "metadata": {
    "colab": {
      "name": "face_mask_gpu_binary.ipynb",
      "provenance": [],
      "collapsed_sections": []
    },
    "kernelspec": {
      "display_name": "Python 3",
      "name": "python3"
    },
    "language_info": {
      "name": "python"
    }
  },
  "cells": [
    {
      "cell_type": "code",
      "metadata": {
        "id": "0dO_KxDOBtqN"
      },
      "source": [
        "import tensorflow as tf"
      ],
      "execution_count": null,
      "outputs": []
    },
    {
      "cell_type": "code",
      "metadata": {
        "id": "GZo1b9JK2Iy4"
      },
      "source": [
        "%tensorflow_version 2.x\n",
        "device_name = tf.test.gpu_device_name()\n",
        "if device_name != '/device:GPU:0':\n",
        "  raise SystemError('GPU device not found')\n",
        "print('Found GPU at: {}'.format(device_name))"
      ],
      "execution_count": null,
      "outputs": []
    },
    {
      "cell_type": "code",
      "metadata": {
        "colab": {
          "base_uri": "https://localhost:8080/"
        },
        "id": "zme9qHIO2jLW",
        "outputId": "5c3402b8-820a-4497-e62d-608ede842627"
      },
      "source": [
        "from google.colab import drive\n",
        "drive.mount('/content/drive/')"
      ],
      "execution_count": null,
      "outputs": [
        {
          "output_type": "stream",
          "name": "stdout",
          "text": [
            "Mounted at /content/drive/\n"
          ]
        }
      ]
    },
    {
      "cell_type": "code",
      "metadata": {
        "id": "lrAVkc6c2les"
      },
      "source": [
        "import cv2\n",
        "from imutils import paths\n",
        "import os\n",
        "import time\n",
        "import random\n",
        "from keras.preprocessing.image import img_to_array\n",
        "\n",
        "data=[]\n",
        "labels=[]\n",
        "i=1"
      ],
      "execution_count": null,
      "outputs": []
    },
    {
      "cell_type": "code",
      "metadata": {
        "id": "BGqB5A9RBrK0"
      },
      "source": [
        "imagePaths = sorted(list(paths.list_images(\"/content/drive/MyDrive/Datasets/dataset1\")))\n",
        "print(imagePaths)\n",
        "for imagePath in imagePaths:\n",
        "  if i%50==0:\n",
        "    print(i)\n",
        "  i+=1\n",
        "  image = cv2.imread(imagePath)\n",
        "  image = cv2.resize(image,(50, 50))\n",
        "  image = cv2.cvtColor(image, cv2.COLOR_BGR2GRAY)\n",
        "  image = img_to_array(image)\n",
        "  label = imagePath.split(os.path.sep)[-2]\n",
        "  if label==\"with_mask\":\n",
        "    label=0\n",
        "    d.append((image,label))\n",
        "  elif label==\"without_mask\":\n",
        "    label=1\n",
        "    d.append((image,label))"
      ],
      "execution_count": null,
      "outputs": []
    },
    {
      "cell_type": "code",
      "metadata": {
        "id": "glknf_iUCjdf"
      },
      "source": [
        "random.shuffle(d)"
      ],
      "execution_count": null,
      "outputs": []
    },
    {
      "cell_type": "markdown",
      "metadata": {
        "id": "kdA6J8Q5lfKS"
      },
      "source": [
        "To use the same shuffled data for all cases, we are loading the shuffled data which was saved earlier. If not to use the same shuffled data, skip the next code snippet."
      ]
    },
    {
      "cell_type": "code",
      "metadata": {
        "id": "RX8Nlgpulgt2"
      },
      "source": [
        "import pickle\n",
        "with open(\"/content/drive/MyDrive/Datasets/maskBinary.txt\", \"rb\") as fp:\n",
        "  d = pickle.load(fp)"
      ],
      "execution_count": null,
      "outputs": []
    },
    {
      "cell_type": "code",
      "metadata": {
        "id": "eh1JghUFwryo"
      },
      "source": [
        "for i in d:\n",
        "  data.append(i[0])\n",
        "  labels.append(i[1])"
      ],
      "execution_count": null,
      "outputs": []
    },
    {
      "cell_type": "code",
      "metadata": {
        "colab": {
          "base_uri": "https://localhost:8080/"
        },
        "id": "9T77Im71vcfE",
        "outputId": "e5155106-09f3-4d5b-c164-13e7381e3517"
      },
      "source": [
        "len(data)\n",
        "print(labels.count(1))"
      ],
      "execution_count": null,
      "outputs": [
        {
          "output_type": "stream",
          "name": "stdout",
          "text": [
            "1828\n"
          ]
        }
      ]
    },
    {
      "cell_type": "code",
      "metadata": {
        "id": "AND9sHAo3vOn"
      },
      "source": [
        "import numpy as np\n",
        "data = np.array(data, dtype=\"float\") / 255.0\n",
        "labels = np.array(labels)"
      ],
      "execution_count": null,
      "outputs": []
    },
    {
      "cell_type": "code",
      "metadata": {
        "colab": {
          "base_uri": "https://localhost:8080/"
        },
        "id": "jJRN3DXO4ynM",
        "outputId": "cf21c9d5-8a03-4e2d-853d-ace9667ba784"
      },
      "source": [
        "train_X = data\n",
        "train_y = labels\n",
        "VAL_PCT = 0.1  # lets reserve 10% of our data for validation\n",
        "val_size = int(len(data)*VAL_PCT)\n",
        "print(val_size)\n",
        "\n",
        "train_X = data[:2*-val_size]\n",
        "train_y = labels[:2*-val_size]\n",
        "\n",
        "test_X = data[2*-val_size:-val_size]\n",
        "test_y = labels[2*-val_size:-val_size]\n",
        "\n",
        "test_X1 = data[-val_size:]\n",
        "test_y1 = labels[-val_size:]\n"
      ],
      "execution_count": null,
      "outputs": [
        {
          "output_type": "stream",
          "name": "stdout",
          "text": [
            "431\n"
          ]
        }
      ]
    },
    {
      "cell_type": "code",
      "metadata": {
        "colab": {
          "base_uri": "https://localhost:8080/"
        },
        "id": "JpAQUtfft96A",
        "outputId": "4fa902de-1c1e-4410-9cf5-b763b817c3c3"
      },
      "source": [
        "EPOCHS = 29\n",
        "BATCH_SIZE = 128\n",
        "steps_per_epoch = len(train_X)//BATCH_SIZE\n",
        "print(\"Steps per epoch: \", steps_per_epoch)  "
      ],
      "execution_count": null,
      "outputs": [
        {
          "output_type": "stream",
          "name": "stdout",
          "text": [
            "Steps per epoch:  26\n"
          ]
        }
      ]
    },
    {
      "cell_type": "code",
      "metadata": {
        "colab": {
          "base_uri": "https://localhost:8080/"
        },
        "id": "TNacIonrUgxk",
        "outputId": "535637a4-0bb0-41bd-ad2c-4fae70be07ba"
      },
      "source": [
        "with tf.device('/device:GPU:0'):    \n",
        "      model = tf.keras.Sequential(\n",
        "      [\n",
        "        \n",
        "        tf.keras.layers.Conv2D(32, (5, 5), input_shape = (50, 50, 1), activation = 'relu'), # no bias necessary before batch norm\n",
        "        tf.keras.layers.MaxPooling2D(pool_size = (2, 2)),\n",
        "        tf.keras.layers.Flatten(),\n",
        "        tf.keras.layers.Dense(units = 512, activation = 'relu'),\n",
        "        \n",
        "        tf.keras.layers.Dense(1, activation='sigmoid')\n",
        "      ])\n",
        "\n",
        "      model.compile(optimizer='adam',loss='binary_crossentropy',metrics=['accuracy'])\n",
        "model.summary()"
      ],
      "execution_count": null,
      "outputs": [
        {
          "output_type": "stream",
          "name": "stdout",
          "text": [
            "Model: \"sequential_10\"\n",
            "_________________________________________________________________\n",
            "Layer (type)                 Output Shape              Param #   \n",
            "=================================================================\n",
            "conv2d_18 (Conv2D)           (None, 46, 46, 32)        832       \n",
            "_________________________________________________________________\n",
            "max_pooling2d_18 (MaxPooling (None, 23, 23, 32)        0         \n",
            "_________________________________________________________________\n",
            "flatten_10 (Flatten)         (None, 16928)             0         \n",
            "_________________________________________________________________\n",
            "dense_20 (Dense)             (None, 512)               8667648   \n",
            "_________________________________________________________________\n",
            "dense_21 (Dense)             (None, 1)                 513       \n",
            "=================================================================\n",
            "Total params: 8,668,993\n",
            "Trainable params: 8,668,993\n",
            "Non-trainable params: 0\n",
            "_________________________________________________________________\n"
          ]
        }
      ]
    },
    {
      "cell_type": "code",
      "metadata": {
        "colab": {
          "base_uri": "https://localhost:8080/",
          "height": 644
        },
        "id": "tEl7x8sakDXd",
        "outputId": "ba722024-2e25-4c1a-a1dc-0e3eeaae1ad1"
      },
      "source": [
        "from keras.utils.vis_utils import plot_model\n",
        "plot_model(model,  show_shapes=True, show_layer_names=True)"
      ],
      "execution_count": null,
      "outputs": [
        {
          "output_type": "execute_result",
          "data": {
            "image/png": "[encoded data removed]",
            "text/plain": [
              "<IPython.core.display.Image object>"
            ]
          },
          "metadata": {},
          "execution_count": 42
        }
      ]
    },
    {
      "cell_type": "code",
      "metadata": {
        "id": "34lWFqLltaGv"
      },
      "source": [
        "from tensorflow.keras.callbacks import *\n",
        "mc=ModelCheckpoint('plant_gpu.h5', monitor='val_accuracy', mode='max', save_best_only=True,verbose=1)  \n",
        "start_time=time.time()\n",
        "history = model.fit(train_X,train_y, steps_per_epoch=steps_per_epoch, epochs=EPOCHS,validation_data=(test_X,test_y),batch_size=BATCH_SIZE,callbacks=[mc])\n",
        "print(\"--- %s seconds ---\" % (time.time() - start_time))"
      ],
      "execution_count": null,
      "outputs": []
    },
    {
      "cell_type": "code",
      "metadata": {
        "id": "yw17Iljotzp_"
      },
      "source": [
        "from tensorflow.keras.models import load_model\n",
        "model=load_model('plant_gpu.h5')\n",
        "c=0\n",
        "t=0\n",
        "for i in range(len(test_X1)):\n",
        "  test_image = np.expand_dims(test_X1[i], axis = 0)\n",
        "  result=model.predict(test_image)\n",
        "  if result[0]<0.5 and test_y1[i]==0:\n",
        "    c+=1\n",
        "  if result[0]>=0.5 and test_y1[i]==1:\n",
        "    c+=1\n",
        "  t+=1"
      ],
      "execution_count": null,
      "outputs": []
    },
    {
      "cell_type": "code",
      "metadata": {
        "id": "fXgV9owYztGd"
      },
      "source": [
        "c/t"
      ],
      "execution_count": null,
      "outputs": []
    },
    {
      "cell_type": "code",
      "metadata": {
        "id": "K5EclSpvCd56"
      },
      "source": [
        "import pickle"
      ],
      "execution_count": null,
      "outputs": []
    },
    {
      "cell_type": "code",
      "metadata": {
        "id": "SK3iFfC92WeV"
      },
      "source": [
        "with open(\"maskBinary.txt\", \"wb\") as fp:   \n",
        "   pickle.dump(d, fp)"
      ],
      "execution_count": null,
      "outputs": []
    },
    {
      "cell_type": "code",
      "metadata": {
        "id": "XfeKuU4yADBs"
      },
      "source": [
        "with open(\"/content/drive/MyDrive/Datasets/maskBinary.txt\", \"rb\") as fp:\n",
        "  d = pickle.load(fp)"
      ],
      "execution_count": null,
      "outputs": []
    },
    {
      "cell_type": "code",
      "metadata": {
        "id": "-VXGmq52AbOO"
      },
      "source": [
        ""
      ],
      "execution_count": null,
      "outputs": []
    }
  ]
}